{
 "cells": [
  {
   "cell_type": "code",
   "execution_count": null,
   "metadata": {
    "ExecuteTime": {
     "end_time": "2022-05-28T23:13:30.831462Z",
     "start_time": "2022-05-28T23:13:30.813508Z"
    }
   },
   "outputs": [],
   "source": [
    "# Code is partly borrowed from https://betterprogramming.pub/how-to-scrape-tweets-with-snscrape-90124ed006af"
   ]
  },
  {
   "cell_type": "markdown",
   "metadata": {},
   "source": [
    "# Imports"
   ]
  },
  {
   "cell_type": "code",
   "execution_count": null,
   "metadata": {
    "ExecuteTime": {
     "end_time": "2022-05-29T02:14:15.152359Z",
     "start_time": "2022-05-29T02:14:13.056854Z"
    }
   },
   "outputs": [],
   "source": [
    "import snscrape.modules.twitter as sntwitter\n",
    "import pandas as pd\n",
    "from tqdm.notebook import tqdm\n",
    "from matplotlib import pyplot as plt\n",
    "from matplotlib.pyplot import figure"
   ]
  },
  {
   "cell_type": "code",
   "execution_count": null,
   "metadata": {
    "ExecuteTime": {
     "end_time": "2022-05-29T02:14:15.965559Z",
     "start_time": "2022-05-29T02:14:15.958629Z"
    }
   },
   "outputs": [],
   "source": [
    "import pickle\n",
    "def save_obj(obj, name):\n",
    "    pickle.dump(obj,open(name + '.pkl', 'wb'), protocol=4)\n",
    "    \n",
    "def load_obj(name):\n",
    "    with open(name + '.pkl', 'rb') as f:\n",
    "        return pickle.load(f)"
   ]
  },
  {
   "cell_type": "markdown",
   "metadata": {},
   "source": [
    "# Get the tweets"
   ]
  },
  {
   "cell_type": "code",
   "execution_count": null,
   "metadata": {
    "ExecuteTime": {
     "end_time": "2022-05-19T19:32:28.281158Z",
     "start_time": "2022-05-19T19:32:28.267772Z"
    }
   },
   "outputs": [],
   "source": [
    "queries = ['vegan', 'plant based', 'vegetarian', 'veggie', 'veganism', 'cruelty-free', 'plant milk', 'tofu']"
   ]
  },
  {
   "cell_type": "code",
   "execution_count": null,
   "metadata": {
    "ExecuteTime": {
     "end_time": "2022-05-20T17:19:25.309291Z",
     "start_time": "2022-05-20T15:59:53.988973Z"
    },
    "scrolled": true
   },
   "outputs": [],
   "source": [
    "# Creating list to append tweet data to\n",
    "tweets_list2 = []\n",
    "\n",
    "years = [i for i in range(2010, 2023, 1)]\n",
    "months = [i for i in range(1, 13, 1)]\n",
    "mdays = {1:31, 2:28, 3:31, 4:30, 5:31, 6:30, 7:31, 8:31, 9:30, 10:31, 11:30, 12:31}\n",
    "\n",
    "for y in years:\n",
    "    for m in months:\n",
    "        for q in tqdm(queries):\n",
    "            print(y, m, q)\n",
    "            if (y == 2022) and (m > 5):\n",
    "                break\n",
    "            # Using TwitterSearchScraper to scrape data and append tweets to list\n",
    "            for i,tweet in enumerate(tqdm(sntwitter.TwitterSearchScraper(q + ' since:{y}-{m}-01 until:{y}-{m}-{eday}'.format(y=y, m=m, eday=mdays[m])).get_items())):\n",
    "                if (i>99) or (not tweet):\n",
    "                #if not(tweet):\n",
    "                    break\n",
    "                tweets_list2.append([tweet.date, \n",
    "                                     tweet.id, \n",
    "                                     tweet.content, \n",
    "                                     tweet.user.username, \n",
    "                                     q, \n",
    "                                     tweet.replyCount, \n",
    "                                     tweet.retweetCount, \n",
    "                                     tweet.likeCount, \n",
    "                                     tweet.quoteCount, \n",
    "                                     tweet.lang, \n",
    "                                     tweet.source, \n",
    "                                     tweet.retweetedTweet, \n",
    "                                     tweet.quotedTweet,\n",
    "                                     tweet.mentionedUsers])\n",
    "        \n",
    "len(tweets_list2)"
   ]
  },
  {
   "cell_type": "code",
   "execution_count": null,
   "metadata": {
    "ExecuteTime": {
     "end_time": "2022-05-20T17:32:59.068181Z",
     "start_time": "2022-05-20T17:32:59.061202Z"
    }
   },
   "outputs": [],
   "source": [
    "len(tweets_list2)"
   ]
  },
  {
   "cell_type": "code",
   "execution_count": null,
   "metadata": {
    "ExecuteTime": {
     "end_time": "2022-05-20T17:33:03.524215Z",
     "start_time": "2022-05-20T17:33:03.171423Z"
    }
   },
   "outputs": [],
   "source": [
    "# Creating a dataframe from the tweets list above\n",
    "tweets_df2 = pd.DataFrame(tweets_list2, columns=['Datetime', \n",
    "                                                 'Tweet Id', \n",
    "                                                 'Text', \n",
    "                                                 'Username', \n",
    "                                                 'Query',\n",
    "                                                 'replyCount', \n",
    "                                                 'retweetCount', \n",
    "                                                 'likeCount', \n",
    "                                                 'quoteCount', \n",
    "                                                 'lang', \n",
    "                                                 'source', \n",
    "                                                 'retweetedTweet', \n",
    "                                                 'quotedTweet',\n",
    "                                                 'mentionedUsers'])\n",
    "\n"
   ]
  },
  {
   "cell_type": "code",
   "execution_count": null,
   "metadata": {
    "ExecuteTime": {
     "end_time": "2022-05-20T17:33:13.646926Z",
     "start_time": "2022-05-20T17:33:08.182538Z"
    }
   },
   "outputs": [],
   "source": [
    "tweets_df2.to_csv('vegan_tweets2010-2022_monthly.csv', ';', index=False, encoding='utf8')"
   ]
  },
  {
   "cell_type": "code",
   "execution_count": null,
   "metadata": {
    "ExecuteTime": {
     "end_time": "2022-05-20T17:33:23.295163Z",
     "start_time": "2022-05-20T17:33:23.281486Z"
    }
   },
   "outputs": [],
   "source": [
    "tweets_df2.shape"
   ]
  },
  {
   "cell_type": "code",
   "execution_count": null,
   "metadata": {
    "ExecuteTime": {
     "end_time": "2022-05-20T17:33:27.083037Z",
     "start_time": "2022-05-20T17:33:27.053118Z"
    }
   },
   "outputs": [],
   "source": [
    "tweets_df2.head()"
   ]
  },
  {
   "cell_type": "code",
   "execution_count": null,
   "metadata": {
    "ExecuteTime": {
     "end_time": "2022-05-20T17:33:19.689967Z",
     "start_time": "2022-05-20T17:33:18.423099Z"
    }
   },
   "outputs": [],
   "source": [
    "save_obj(tweets_df2, 'vegan_tweets2010-2022_monthly')"
   ]
  },
  {
   "cell_type": "code",
   "execution_count": null,
   "metadata": {
    "ExecuteTime": {
     "end_time": "2022-05-29T02:14:23.391599Z",
     "start_time": "2022-05-29T02:14:22.719872Z"
    }
   },
   "outputs": [],
   "source": [
    "tweets_df2 = load_obj('vegan_tweets2010-2022_monthly')"
   ]
  },
  {
   "cell_type": "markdown",
   "metadata": {},
   "source": [
    "# Explore datatset"
   ]
  },
  {
   "cell_type": "markdown",
   "metadata": {},
   "source": [
    "## Language"
   ]
  },
  {
   "cell_type": "code",
   "execution_count": null,
   "metadata": {
    "ExecuteTime": {
     "end_time": "2022-05-29T03:10:54.303112Z",
     "start_time": "2022-05-29T03:10:54.099755Z"
    },
    "scrolled": true
   },
   "outputs": [],
   "source": [
    "tweet_lang_ds = tweets_df2.groupby('lang').count()\n",
    "tweet_lang_ds"
   ]
  },
  {
   "cell_type": "code",
   "execution_count": null,
   "metadata": {
    "ExecuteTime": {
     "end_time": "2022-05-29T03:10:56.820067Z",
     "start_time": "2022-05-29T03:10:56.803014Z"
    }
   },
   "outputs": [],
   "source": [
    "new_lang_lbls = [l if n > 1000 else 'other' for l, n in zip(tweet_lang_ds.index, tweet_lang_ds.Text)]\n",
    "tweet_lang_ds['new_lang_lbls'] = new_lang_lbls\n",
    "tweet_lang_ds = tweet_lang_ds.groupby('new_lang_lbls').sum()"
   ]
  },
  {
   "cell_type": "code",
   "execution_count": null,
   "metadata": {
    "ExecuteTime": {
     "end_time": "2022-05-29T03:10:59.343039Z",
     "start_time": "2022-05-29T03:10:59.322401Z"
    }
   },
   "outputs": [],
   "source": [
    "tweet_lang_ds"
   ]
  },
  {
   "cell_type": "code",
   "execution_count": null,
   "metadata": {
    "ExecuteTime": {
     "end_time": "2022-05-29T03:14:50.142407Z",
     "start_time": "2022-05-29T03:14:49.835920Z"
    },
    "scrolled": false
   },
   "outputs": [],
   "source": [
    "figure(figsize=(10, 10), dpi=80)\n",
    "plt.pie(tweet_lang_ds.Text, labels=tweet_lang_ds.index, rotatelabels=True, autopct='%.0f%%', pctdistance=1.1, labeldistance=None)\n",
    "plt.legend()"
   ]
  },
  {
   "cell_type": "markdown",
   "metadata": {},
   "source": [
    "## Interaction with tweets"
   ]
  },
  {
   "cell_type": "code",
   "execution_count": null,
   "metadata": {
    "ExecuteTime": {
     "end_time": "2022-05-20T17:34:06.852220Z",
     "start_time": "2022-05-20T17:34:06.473730Z"
    }
   },
   "outputs": [],
   "source": [
    "tweets_df2[['replyCount', 'retweetCount', 'likeCount', 'quoteCount']].hist()"
   ]
  },
  {
   "cell_type": "code",
   "execution_count": null,
   "metadata": {
    "ExecuteTime": {
     "end_time": "2022-05-29T01:26:52.496617Z",
     "start_time": "2022-05-29T01:26:52.450885Z"
    }
   },
   "outputs": [],
   "source": [
    "tweets_df2.describe(percentiles=[0.7, 0.8, 0.9, 0.95, 0.97, 0.99]).round(2)"
   ]
  },
  {
   "cell_type": "markdown",
   "metadata": {},
   "source": [
    "## Tweets by query"
   ]
  },
  {
   "cell_type": "code",
   "execution_count": null,
   "metadata": {
    "ExecuteTime": {
     "end_time": "2022-05-29T02:14:29.471906Z",
     "start_time": "2022-05-29T02:14:29.455322Z"
    }
   },
   "outputs": [],
   "source": [
    "tweets_df2[tweets_df2.likeCount > 0].shape"
   ]
  },
  {
   "cell_type": "code",
   "execution_count": null,
   "metadata": {
    "ExecuteTime": {
     "end_time": "2022-05-29T02:14:31.023612Z",
     "start_time": "2022-05-29T02:14:30.927654Z"
    }
   },
   "outputs": [],
   "source": [
    "tw_by_query = tweets_df2[tweets_df2.likeCount > 0].groupby('Query').count()\n",
    "tw_by_query = tw_by_query.sort_values(by=['Text'])\n",
    "tw_by_query"
   ]
  },
  {
   "cell_type": "code",
   "execution_count": null,
   "metadata": {
    "ExecuteTime": {
     "end_time": "2022-05-29T03:02:44.315088Z",
     "start_time": "2022-05-29T03:02:44.082178Z"
    }
   },
   "outputs": [],
   "source": [
    "\n",
    "fig, ax = plt.subplots(figsize=(10,10))\n",
    "plt.rcParams.update({'font.size': 22})\n",
    "\n",
    "bars = ax.barh(tw_by_query.index, tw_by_query.Text)\n",
    "\n",
    "#plt.barh(tw_by_query.index, tw_by_query.Text)\n",
    "\n",
    "ax.bar_label(bars, labels=[f'{x:,.0f}' for x in bars.datavalues], label_type='center', color='white')"
   ]
  },
  {
   "cell_type": "markdown",
   "metadata": {},
   "source": [
    "## Tweets by date"
   ]
  },
  {
   "cell_type": "code",
   "execution_count": null,
   "metadata": {
    "ExecuteTime": {
     "end_time": "2022-05-29T03:27:34.303375Z",
     "start_time": "2022-05-29T03:27:33.610558Z"
    }
   },
   "outputs": [],
   "source": [
    "tweets_df2['Year'] = [d.year for d in tweets_df2.Datetime]\n",
    "tweets_df2['Month'] = [d.month for d in tweets_df2.Datetime]"
   ]
  },
  {
   "cell_type": "code",
   "execution_count": null,
   "metadata": {
    "ExecuteTime": {
     "end_time": "2022-05-29T03:27:34.961687Z",
     "start_time": "2022-05-29T03:27:34.931347Z"
    }
   },
   "outputs": [],
   "source": [
    "tweets_df2.head()"
   ]
  },
  {
   "cell_type": "code",
   "execution_count": null,
   "metadata": {
    "ExecuteTime": {
     "end_time": "2022-05-29T03:27:36.995179Z",
     "start_time": "2022-05-29T03:27:36.867603Z"
    }
   },
   "outputs": [],
   "source": [
    "veg_post_yearly = tweets_df2[tweets_df2.likeCount > 0].groupby('Year').count()[['Text']]\n",
    "veg_post_yearly"
   ]
  },
  {
   "cell_type": "code",
   "execution_count": null,
   "metadata": {
    "ExecuteTime": {
     "end_time": "2022-05-29T03:30:01.770973Z",
     "start_time": "2022-05-29T03:30:01.645913Z"
    }
   },
   "outputs": [],
   "source": [
    "plt.rcParams.update({'font.size': 12})\n",
    "plt.plot(veg_post_yearly.index, veg_post_yearly.Text.values)\n",
    "plt.ylabel('Number of tweets')\n",
    "plt.xlabel('Years')"
   ]
  },
  {
   "cell_type": "code",
   "execution_count": null,
   "metadata": {
    "ExecuteTime": {
     "end_time": "2022-05-29T03:34:57.528999Z",
     "start_time": "2022-05-29T03:34:57.434824Z"
    }
   },
   "outputs": [],
   "source": [
    "veg_post_monthly = tweets_df2[tweets_df2.likeCount > 0].groupby('Month').count()[['Text']]\n",
    "veg_post_monthly"
   ]
  },
  {
   "cell_type": "code",
   "execution_count": null,
   "metadata": {
    "ExecuteTime": {
     "end_time": "2022-05-29T03:36:51.808593Z",
     "start_time": "2022-05-29T03:36:51.494950Z"
    }
   },
   "outputs": [],
   "source": [
    "plt.plot(veg_post_monthly.index, veg_post_monthly.Text.values)\n",
    "plt.ylabel('Number of tweets')\n",
    "plt.xlabel('Month of a year')"
   ]
  },
  {
   "cell_type": "code",
   "execution_count": null,
   "metadata": {
    "ExecuteTime": {
     "end_time": "2022-05-29T03:49:36.372130Z",
     "start_time": "2022-05-29T03:49:36.238720Z"
    }
   },
   "outputs": [],
   "source": [
    "veg_post_yearly_monthly = tweets_df2[tweets_df2.likeCount > 0].groupby(['Year','Month']).count()[['Text']]\n",
    "veg_post_yearly_monthly"
   ]
  },
  {
   "cell_type": "code",
   "execution_count": null,
   "metadata": {
    "ExecuteTime": {
     "end_time": "2022-05-29T03:49:37.781271Z",
     "start_time": "2022-05-29T03:49:37.772359Z"
    }
   },
   "outputs": [],
   "source": [
    "veg_post_yearly_monthly.index"
   ]
  },
  {
   "cell_type": "code",
   "execution_count": null,
   "metadata": {
    "ExecuteTime": {
     "end_time": "2022-05-29T03:58:46.527360Z",
     "start_time": "2022-05-29T03:58:46.167613Z"
    },
    "scrolled": true
   },
   "outputs": [],
   "source": [
    "\n",
    "\n",
    "figure(figsize=(20, 10), dpi=80)\n",
    "\n",
    "idx = [str(i) for i in veg_post_yearly_monthly.index]\n",
    "years = np.array([[y,m] for y, m in veg_post_yearly_monthly.index])[:,0]\n",
    "plt.plot(idx, veg_post_yearly_monthly.Text.values, labels=years)\n",
    "plt.xticks(rotation = 90)"
   ]
  },
  {
   "cell_type": "code",
   "execution_count": null,
   "metadata": {
    "ExecuteTime": {
     "end_time": "2022-05-29T03:54:07.547613Z",
     "start_time": "2022-05-29T03:54:07.529776Z"
    }
   },
   "outputs": [],
   "source": [
    "np.array([[y,m] for y, m in veg_post_yearly_monthly.index])[:,0]"
   ]
  },
  {
   "cell_type": "code",
   "execution_count": null,
   "metadata": {},
   "outputs": [],
   "source": []
  }
 ],
 "metadata": {
  "kernelspec": {
   "display_name": "Python 3",
   "language": "python",
   "name": "python3"
  },
  "language_info": {
   "codemirror_mode": {
    "name": "ipython",
    "version": 3
   },
   "file_extension": ".py",
   "mimetype": "text/x-python",
   "name": "python",
   "nbconvert_exporter": "python",
   "pygments_lexer": "ipython3",
   "version": "3.8.5"
  },
  "toc": {
   "base_numbering": 1,
   "nav_menu": {},
   "number_sections": true,
   "sideBar": true,
   "skip_h1_title": false,
   "title_cell": "Table of Contents",
   "title_sidebar": "Contents",
   "toc_cell": false,
   "toc_position": {},
   "toc_section_display": true,
   "toc_window_display": true
  },
  "varInspector": {
   "cols": {
    "lenName": 16,
    "lenType": 16,
    "lenVar": 40
   },
   "kernels_config": {
    "python": {
     "delete_cmd_postfix": "",
     "delete_cmd_prefix": "del ",
     "library": "var_list.py",
     "varRefreshCmd": "print(var_dic_list())"
    },
    "r": {
     "delete_cmd_postfix": ") ",
     "delete_cmd_prefix": "rm(",
     "library": "var_list.r",
     "varRefreshCmd": "cat(var_dic_list()) "
    }
   },
   "types_to_exclude": [
    "module",
    "function",
    "builtin_function_or_method",
    "instance",
    "_Feature"
   ],
   "window_display": false
  }
 },
 "nbformat": 4,
 "nbformat_minor": 4
}
